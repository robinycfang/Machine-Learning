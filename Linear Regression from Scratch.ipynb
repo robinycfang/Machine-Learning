{
 "cells": [
  {
   "cell_type": "code",
   "execution_count": null,
   "metadata": {},
   "outputs": [],
   "source": [
    "# Linear Regression with Vectorization\n",
    "\n",
    "import numpy as np\n",
    "import pandas as pd\n",
    "import random\n",
    "\n",
    "# Load the wine data\n",
    "url = 'https://archive.ics.uci.edu/ml/machine-learning-databases/wine-quality/winequality-red.csv'\n",
    "df = np.array(pd.read_csv(url, delimiter=';'))\n",
    "\n",
    "# Add bias to the data frame\n",
    "m_total = df.shape[0]\n",
    "df = np.append(np.ones((m_total,1)), df, axis=1)\n",
    "\n",
    "# Shuffle the data\n",
    "random.shuffle(df)\n",
    "# Split the data (80% training and 20% test)\n",
    "X_train = df[:int(0.8*m_total),:-1]\n",
    "# y is a flattened array so need to convert it to an m by 1 vector\n",
    "y_train = df[:int(0.8*m_total),-1].reshape(X_train.shape[0],1)\n",
    "\n",
    "X_test = df[int(0.8*m_total):,:-1]\n",
    "y_test = df[int(0.8*m_total):,-1].reshape(X_test.shape[0],1)\n",
    "\n",
    "# m = the number of training data; n = the number of features (including bias)\n",
    "m = X_train.shape[0]\n",
    "n = X_train.shape[1]\n",
    "\n",
    "alpha = 0.0001\n",
    "iterations = 1000\n",
    "theta = np.ones((n,1))\n",
    "\n",
    "for iteration in range(iterations):\n",
    "    \n",
    "    h = np.dot(X_train,theta)\n",
    "\n",
    "    J = 0.5*(1/m)*((h-y_train)**2).sum(axis=0)\n",
    "\n",
    "    if iteration > 990:\n",
    "\n",
    "        print('Iteration: ' + str(iteration))\n",
    "        print('Cost: ' + str(J))\n",
    "        print('Theta: ' + str(theta))\n",
    "        \n",
    "    theta -= (alpha/m)*( np.dot( np.transpose(X_train),(h - y_train) ) )\n",
    "\n"
   ]
  }
 ],
 "metadata": {
  "kernelspec": {
   "display_name": "Python 3",
   "language": "python",
   "name": "python3"
  },
  "language_info": {
   "codemirror_mode": {
    "name": "ipython",
    "version": 3
   },
   "file_extension": ".py",
   "mimetype": "text/x-python",
   "name": "python",
   "nbconvert_exporter": "python",
   "pygments_lexer": "ipython3",
   "version": "3.6.5"
  }
 },
 "nbformat": 4,
 "nbformat_minor": 2
}
