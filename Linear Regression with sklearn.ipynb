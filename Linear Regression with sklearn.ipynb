{
 "cells": [
  {
   "cell_type": "code",
   "execution_count": 2,
   "metadata": {},
   "outputs": [
    {
     "name": "stdout",
     "output_type": "stream",
     "text": [
      "0.3014894027528785\n"
     ]
    }
   ],
   "source": [
    "# Linear Regression with Sklearn\n",
    "\n",
    "import numpy as np\n",
    "import pandas as pd\n",
    "from sklearn import preprocessing, model_selection\n",
    "from sklearn.linear_model import LinearRegression, SGDRegressor\n",
    "\n",
    "# Load the wine data\n",
    "url = 'https://archive.ics.uci.edu/ml/machine-learning-databases/wine-quality/winequality-red.csv'\n",
    "df = np.array(pd.read_csv(url, delimiter=';'))\n",
    "\n",
    "# sklearn adds ones automatically and calculates intercept as default so no need to mannually add ones\n",
    "X = df[:,:-1]\n",
    "# Initial y is a normal array so need to reshape y to an m*1 vector\n",
    "y = df[:,-1]#.reshape(df.shape[0],1)\n",
    "\n",
    "# Scaling the data\n",
    "X = preprocessing.scale(X)\n",
    "\n",
    "# Split the data\n",
    "X_train, X_test, y_train, y_test = model_selection.train_test_split(X, y, test_size = 0.2)\n",
    "\n",
    "# Define the classifier\n",
    "clf = SGDRegressor(max_iter = 1000, tol = 0)\n",
    "# Fit the data\n",
    "clf.fit(X_train, y_train)\n",
    "\n",
    "# Predict using the current model\n",
    "#prediction = clf.predict(X_test)\n",
    "#print(prediction)\n",
    "\n",
    "# score returns R^2\n",
    "accuracy = clf.score(X_test, y_test)\n",
    "print(accuracy)\n",
    "\n"
   ]
  }
 ],
 "metadata": {
  "kernelspec": {
   "display_name": "Python 3",
   "language": "python",
   "name": "python3"
  },
  "language_info": {
   "codemirror_mode": {
    "name": "ipython",
    "version": 3
   },
   "file_extension": ".py",
   "mimetype": "text/x-python",
   "name": "python",
   "nbconvert_exporter": "python",
   "pygments_lexer": "ipython3",
   "version": "3.6.5"
  }
 },
 "nbformat": 4,
 "nbformat_minor": 2
}
