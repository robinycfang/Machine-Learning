{
 "cells": [
  {
   "cell_type": "code",
   "execution_count": 232,
   "metadata": {},
   "outputs": [],
   "source": [
    "import numpy as np\n",
    "import pandas as pd\n",
    "import random\n",
    "from sklearn import datasets\n",
    "import matplotlib.pyplot as plt\n",
    "\n",
    "iris = datasets.load_iris()\n",
    "X = np.array(iris.data)\n",
    "y = np.array(iris.target).reshape(X.shape[0], 1)\n",
    "\n",
    "df = np.concatenate((X, y), axis = 1)\n",
    "df = np.random.permutation(df)\n",
    "\n",
    "n_total = df.shape[0]\n",
    "\n",
    "one_hot = np.zeros([n_total, 3])\n",
    "\n",
    "for idx, val in enumerate(df[:, -1]):\n",
    "    one_hot[idx][int(val)] = 1\n",
    "\n",
    "# Split the data\n",
    "X_train = df[0:int(0.8*n_total), :-1].astype(np.float64)\n",
    "y_train = one_hot[0:int(0.8*n_total)].astype(np.float64)\n",
    "\n",
    "X_test = df[int(0.8*n_total):, :-1].astype(np.float64)\n",
    "y_test = df[int(0.8*n_total):, -1].astype(np.float64)"
   ]
  },
  {
   "cell_type": "code",
   "execution_count": 233,
   "metadata": {},
   "outputs": [],
   "source": [
    "class NeuralNetworks(object):\n",
    "    def __init__(self, n_features = 4, n_hidden = 6, n_output = 3, iterations = 1000, alpha = 0.001):\n",
    "        self.n_features = n_features\n",
    "        self.n_hidden = n_hidden\n",
    "        self.n_output = n_output  \n",
    "        self.iterations = iterations\n",
    "        self.alpha = alpha\n",
    "    \n",
    "    def sig_func(self, z):\n",
    "        return 1 / (1 + np.exp(-z))\n",
    "    \n",
    "    # Need to randomly initialize theta. Zeros will cause repeatability.\n",
    "    def init_theta(self):\n",
    "        theta1 = np.random.uniform(-1, 1, size = self.n_hidden * (self.n_features + 1) )\\\n",
    "        .reshape(self.n_hidden, (self.n_features + 1) )\n",
    "        theta2 = np.random.uniform(-1, 1, size = self.n_output * (self.n_hidden + 1) )\\\n",
    "        .reshape(self.n_output, (self.n_hidden + 1) )\n",
    "        return theta1, theta2\n",
    "    \n",
    "    def forward_prop(self, X, theta1, theta2):        \n",
    "        a1 = np.insert(X, 0, 1, axis = 1)\n",
    "        z2 = theta1.dot(a1.T)\n",
    "        a2 = self.sig_func(z2)\n",
    "        a2 = np.insert(a2, 0, 1, axis = 0)\n",
    "        z3 = theta2.dot(a2)\n",
    "        a3 = self.sig_func(z3)\n",
    "        return a1, a2, a3\n",
    "        \n",
    "    def cost_func(self, a3, X, y):         \n",
    "        J = (-1 / X.shape[0]) * ( (y * np.log(a3.T)) +(1 - y) * np.log(1 - a3.T) ).sum()\n",
    "        return J\n",
    "           \n",
    "    def back_prop(self, a1, a2, a3, theta2, y):\n",
    "        \n",
    "        small_delta3 = a3 - y.T\n",
    "        small_delta2 = theta2.T.dot(small_delta3) * (a2* (1 - a2))\n",
    "        # Remove bias\n",
    "        small_delta2 = small_delta2[1:, :]\n",
    "        \n",
    "        big_delta1 = small_delta2.dot(a1)\n",
    "        big_delta2 = small_delta3.dot(a2.T)\n",
    "        return big_delta1, big_delta2\n",
    "    \n",
    "    def fit(self, X, y):\n",
    "        theta1, theta2 = self.init_theta()\n",
    "        \n",
    "        for iteration in range(self.iterations):\n",
    "            a1, a2, a3 = self.forward_prop(X, theta1, theta2)\n",
    "            \n",
    "            J = self.cost_func(a3, X, y)\n",
    "           \n",
    "            big_delta1, big_delta2 = self.back_prop(a1, a2, a3, theta2, y)\n",
    "            # Update theta\n",
    "            theta1 -= self.alpha * big_delta1\n",
    "            theta2 -= self.alpha * big_delta2\n",
    "            return theta1, theta2\n",
    "        \n",
    "    def predict(self, X, theta1, theta2):        \n",
    "        a1, a2, a3 = self.forward_prop(X, theta1, theta2)\n",
    "        y_pred = np.argmax(a3, axis = 0)\n",
    "        return y_pred"
   ]
  },
  {
   "cell_type": "code",
   "execution_count": 234,
   "metadata": {},
   "outputs": [
    {
     "name": "stdout",
     "output_type": "stream",
     "text": [
      "accuracy: 0.3333333333333333\n"
     ]
    }
   ],
   "source": [
    "NN = NeuralNetworks()\n",
    "\n",
    "final_theta1, final_theta2 = NN.fit(X_train, y_train)\n",
    "\n",
    "prediction = NN.predict(X_test, final_theta1, final_theta2)\n",
    "\n",
    "print('accuracy: ' + str( np.sum(y_test == prediction) / len(y_test) ))"
   ]
  },
  {
   "cell_type": "code",
   "execution_count": null,
   "metadata": {},
   "outputs": [],
   "source": []
  }
 ],
 "metadata": {
  "kernelspec": {
   "display_name": "Python 3",
   "language": "python",
   "name": "python3"
  },
  "language_info": {
   "codemirror_mode": {
    "name": "ipython",
    "version": 3
   },
   "file_extension": ".py",
   "mimetype": "text/x-python",
   "name": "python",
   "nbconvert_exporter": "python",
   "pygments_lexer": "ipython3",
   "version": "3.6.5"
  }
 },
 "nbformat": 4,
 "nbformat_minor": 2
}
